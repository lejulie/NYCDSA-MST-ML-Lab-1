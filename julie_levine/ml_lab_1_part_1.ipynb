{
 "cells": [
  {
   "cell_type": "code",
   "execution_count": 1,
   "metadata": {},
   "outputs": [],
   "source": [
    "import pandas as pd\n",
    "import numpy as np\n",
    "import matplotlib.pyplot as plt\n",
    "%matplotlib inline"
   ]
  },
  {
   "cell_type": "code",
   "execution_count": 2,
   "metadata": {},
   "outputs": [],
   "source": [
    "# Read the two datasets\n",
    "orders = pd.read_csv('data/Orders.csv')\n",
    "returns = pd.read_csv('data/Returns.csv')"
   ]
  },
  {
   "cell_type": "markdown",
   "metadata": {},
   "source": [
    "# Problem 1: Dataset Import & Cleaning\n",
    "Check **\"Profit\"** and **\"Sales\"** in the dataset, convert these two columns to numeric type.  "
   ]
  },
  {
   "cell_type": "code",
   "execution_count": 3,
   "metadata": {},
   "outputs": [],
   "source": [
    "# remove periods from orders column names\n",
    "orders.columns=orders.columns.str.replace('.','_')\n",
    "# remove spaces from region column names\n",
    "returns.columns=returns.columns.str.replace(' ','_')"
   ]
  },
  {
   "cell_type": "code",
   "execution_count": 4,
   "metadata": {},
   "outputs": [],
   "source": [
    "orders.Profit = orders.Profit.apply(lambda s: float(s.replace(\"$\",\"\").replace(',','')))\n",
    "orders.Sales = orders.Sales.apply(lambda s: float(s.replace(\"$\",\"\").replace(',','')))"
   ]
  },
  {
   "cell_type": "code",
   "execution_count": 5,
   "metadata": {},
   "outputs": [
    {
     "name": "stdout",
     "output_type": "stream",
     "text": [
      "Orders dimensions: (51290, 24) \n",
      "\n",
      "Missing values:\n",
      " Row_ID                0\n",
      "Order_ID              0\n",
      "Order_Date            0\n",
      "Ship_Date             0\n",
      "Ship_Mode             0\n",
      "Customer_ID           0\n",
      "Customer_Name         0\n",
      "Segment               0\n",
      "Postal_Code       41296\n",
      "City                  0\n",
      "State                 0\n",
      "Country               0\n",
      "Region                0\n",
      "Market                0\n",
      "Product_ID            0\n",
      "Category              0\n",
      "Sub_Category          0\n",
      "Product_Name          0\n",
      "Sales                 0\n",
      "Quantity              0\n",
      "Discount              0\n",
      "Profit                0\n",
      "Shipping_Cost         0\n",
      "Order_Priority        0\n",
      "dtype: int64\n"
     ]
    }
   ],
   "source": [
    "# How much data is there?\n",
    "print(\"Orders dimensions:\", orders.shape,\"\\n\")\n",
    "# How many null values are there - we see that there are 41,296 missing postcodes\n",
    "print(\"Missing values:\\n\",orders.isnull().sum())"
   ]
  },
  {
   "cell_type": "code",
   "execution_count": 6,
   "metadata": {},
   "outputs": [
    {
     "data": {
      "text/html": [
       "<div>\n",
       "<style scoped>\n",
       "    .dataframe tbody tr th:only-of-type {\n",
       "        vertical-align: middle;\n",
       "    }\n",
       "\n",
       "    .dataframe tbody tr th {\n",
       "        vertical-align: top;\n",
       "    }\n",
       "\n",
       "    .dataframe thead th {\n",
       "        text-align: right;\n",
       "    }\n",
       "</style>\n",
       "<table border=\"1\" class=\"dataframe\">\n",
       "  <thead>\n",
       "    <tr style=\"text-align: right;\">\n",
       "      <th></th>\n",
       "      <th>Row_ID</th>\n",
       "      <th>Order_ID</th>\n",
       "      <th>Order_Date</th>\n",
       "      <th>Ship_Date</th>\n",
       "      <th>Ship_Mode</th>\n",
       "      <th>Customer_ID</th>\n",
       "      <th>Customer_Name</th>\n",
       "      <th>Segment</th>\n",
       "      <th>Postal_Code</th>\n",
       "      <th>City</th>\n",
       "      <th>...</th>\n",
       "      <th>Product_ID</th>\n",
       "      <th>Category</th>\n",
       "      <th>Sub_Category</th>\n",
       "      <th>Product_Name</th>\n",
       "      <th>Sales</th>\n",
       "      <th>Quantity</th>\n",
       "      <th>Discount</th>\n",
       "      <th>Profit</th>\n",
       "      <th>Shipping_Cost</th>\n",
       "      <th>Order_Priority</th>\n",
       "    </tr>\n",
       "  </thead>\n",
       "  <tbody>\n",
       "    <tr>\n",
       "      <th>0</th>\n",
       "      <td>40098</td>\n",
       "      <td>CA-2014-AB10015140-41954</td>\n",
       "      <td>11/11/14</td>\n",
       "      <td>11/13/14</td>\n",
       "      <td>First Class</td>\n",
       "      <td>AB-100151402</td>\n",
       "      <td>Aaron Bergman</td>\n",
       "      <td>Consumer</td>\n",
       "      <td>73120.0</td>\n",
       "      <td>Oklahoma City</td>\n",
       "      <td>...</td>\n",
       "      <td>TEC-PH-5816</td>\n",
       "      <td>Technology</td>\n",
       "      <td>Phones</td>\n",
       "      <td>Samsung Convoy 3</td>\n",
       "      <td>221.98</td>\n",
       "      <td>2</td>\n",
       "      <td>0.0</td>\n",
       "      <td>62.15</td>\n",
       "      <td>40.77</td>\n",
       "      <td>High</td>\n",
       "    </tr>\n",
       "    <tr>\n",
       "      <th>1</th>\n",
       "      <td>26341</td>\n",
       "      <td>IN-2014-JR162107-41675</td>\n",
       "      <td>2/5/14</td>\n",
       "      <td>2/7/14</td>\n",
       "      <td>Second Class</td>\n",
       "      <td>JR-162107</td>\n",
       "      <td>Justin Ritter</td>\n",
       "      <td>Corporate</td>\n",
       "      <td>NaN</td>\n",
       "      <td>Wollongong</td>\n",
       "      <td>...</td>\n",
       "      <td>FUR-CH-5379</td>\n",
       "      <td>Furniture</td>\n",
       "      <td>Chairs</td>\n",
       "      <td>Novimex Executive Leather Armchair, Black</td>\n",
       "      <td>3709.40</td>\n",
       "      <td>9</td>\n",
       "      <td>0.1</td>\n",
       "      <td>-288.77</td>\n",
       "      <td>923.63</td>\n",
       "      <td>Critical</td>\n",
       "    </tr>\n",
       "    <tr>\n",
       "      <th>2</th>\n",
       "      <td>25330</td>\n",
       "      <td>IN-2014-CR127307-41929</td>\n",
       "      <td>10/17/14</td>\n",
       "      <td>10/18/14</td>\n",
       "      <td>First Class</td>\n",
       "      <td>CR-127307</td>\n",
       "      <td>Craig Reiter</td>\n",
       "      <td>Consumer</td>\n",
       "      <td>NaN</td>\n",
       "      <td>Brisbane</td>\n",
       "      <td>...</td>\n",
       "      <td>TEC-PH-5356</td>\n",
       "      <td>Technology</td>\n",
       "      <td>Phones</td>\n",
       "      <td>Nokia Smart Phone, with Caller ID</td>\n",
       "      <td>5175.17</td>\n",
       "      <td>9</td>\n",
       "      <td>0.1</td>\n",
       "      <td>919.97</td>\n",
       "      <td>915.49</td>\n",
       "      <td>Medium</td>\n",
       "    </tr>\n",
       "    <tr>\n",
       "      <th>3</th>\n",
       "      <td>13524</td>\n",
       "      <td>ES-2014-KM1637548-41667</td>\n",
       "      <td>1/28/14</td>\n",
       "      <td>1/30/14</td>\n",
       "      <td>First Class</td>\n",
       "      <td>KM-1637548</td>\n",
       "      <td>Katherine Murray</td>\n",
       "      <td>Home Office</td>\n",
       "      <td>NaN</td>\n",
       "      <td>Berlin</td>\n",
       "      <td>...</td>\n",
       "      <td>TEC-PH-5267</td>\n",
       "      <td>Technology</td>\n",
       "      <td>Phones</td>\n",
       "      <td>Motorola Smart Phone, Cordless</td>\n",
       "      <td>2892.51</td>\n",
       "      <td>5</td>\n",
       "      <td>0.1</td>\n",
       "      <td>-96.54</td>\n",
       "      <td>910.16</td>\n",
       "      <td>Medium</td>\n",
       "    </tr>\n",
       "    <tr>\n",
       "      <th>4</th>\n",
       "      <td>47221</td>\n",
       "      <td>SG-2014-RH9495111-41948</td>\n",
       "      <td>11/5/14</td>\n",
       "      <td>11/6/14</td>\n",
       "      <td>Same Day</td>\n",
       "      <td>RH-9495111</td>\n",
       "      <td>Rick Hansen</td>\n",
       "      <td>Consumer</td>\n",
       "      <td>NaN</td>\n",
       "      <td>Dakar</td>\n",
       "      <td>...</td>\n",
       "      <td>TEC-CO-6011</td>\n",
       "      <td>Technology</td>\n",
       "      <td>Copiers</td>\n",
       "      <td>Sharp Wireless Fax, High-Speed</td>\n",
       "      <td>2832.96</td>\n",
       "      <td>8</td>\n",
       "      <td>0.0</td>\n",
       "      <td>311.52</td>\n",
       "      <td>903.04</td>\n",
       "      <td>Critical</td>\n",
       "    </tr>\n",
       "  </tbody>\n",
       "</table>\n",
       "<p>5 rows × 24 columns</p>\n",
       "</div>"
      ],
      "text/plain": [
       "   Row_ID                  Order_ID Order_Date Ship_Date     Ship_Mode  \\\n",
       "0   40098  CA-2014-AB10015140-41954   11/11/14  11/13/14   First Class   \n",
       "1   26341    IN-2014-JR162107-41675     2/5/14    2/7/14  Second Class   \n",
       "2   25330    IN-2014-CR127307-41929   10/17/14  10/18/14   First Class   \n",
       "3   13524   ES-2014-KM1637548-41667    1/28/14   1/30/14   First Class   \n",
       "4   47221   SG-2014-RH9495111-41948    11/5/14   11/6/14      Same Day   \n",
       "\n",
       "    Customer_ID     Customer_Name      Segment  Postal_Code           City  \\\n",
       "0  AB-100151402     Aaron Bergman     Consumer      73120.0  Oklahoma City   \n",
       "1     JR-162107     Justin Ritter    Corporate          NaN     Wollongong   \n",
       "2     CR-127307      Craig Reiter     Consumer          NaN       Brisbane   \n",
       "3    KM-1637548  Katherine Murray  Home Office          NaN         Berlin   \n",
       "4    RH-9495111       Rick Hansen     Consumer          NaN          Dakar   \n",
       "\n",
       "        ...         Product_ID    Category Sub_Category  \\\n",
       "0       ...        TEC-PH-5816  Technology       Phones   \n",
       "1       ...        FUR-CH-5379   Furniture       Chairs   \n",
       "2       ...        TEC-PH-5356  Technology       Phones   \n",
       "3       ...        TEC-PH-5267  Technology       Phones   \n",
       "4       ...        TEC-CO-6011  Technology      Copiers   \n",
       "\n",
       "                                Product_Name    Sales Quantity Discount  \\\n",
       "0                           Samsung Convoy 3   221.98        2      0.0   \n",
       "1  Novimex Executive Leather Armchair, Black  3709.40        9      0.1   \n",
       "2          Nokia Smart Phone, with Caller ID  5175.17        9      0.1   \n",
       "3             Motorola Smart Phone, Cordless  2892.51        5      0.1   \n",
       "4             Sharp Wireless Fax, High-Speed  2832.96        8      0.0   \n",
       "\n",
       "   Profit  Shipping_Cost  Order_Priority  \n",
       "0   62.15          40.77            High  \n",
       "1 -288.77         923.63        Critical  \n",
       "2  919.97         915.49          Medium  \n",
       "3  -96.54         910.16          Medium  \n",
       "4  311.52         903.04        Critical  \n",
       "\n",
       "[5 rows x 24 columns]"
      ]
     },
     "execution_count": 6,
     "metadata": {},
     "output_type": "execute_result"
    }
   ],
   "source": [
    "orders.head()"
   ]
  },
  {
   "cell_type": "code",
   "execution_count": 7,
   "metadata": {},
   "outputs": [
    {
     "data": {
      "text/html": [
       "<div>\n",
       "<style scoped>\n",
       "    .dataframe tbody tr th:only-of-type {\n",
       "        vertical-align: middle;\n",
       "    }\n",
       "\n",
       "    .dataframe tbody tr th {\n",
       "        vertical-align: top;\n",
       "    }\n",
       "\n",
       "    .dataframe thead th {\n",
       "        text-align: right;\n",
       "    }\n",
       "</style>\n",
       "<table border=\"1\" class=\"dataframe\">\n",
       "  <thead>\n",
       "    <tr style=\"text-align: right;\">\n",
       "      <th></th>\n",
       "      <th>Returned</th>\n",
       "      <th>Order_ID</th>\n",
       "      <th>Region</th>\n",
       "    </tr>\n",
       "  </thead>\n",
       "  <tbody>\n",
       "    <tr>\n",
       "      <th>0</th>\n",
       "      <td>Yes</td>\n",
       "      <td>CA-2012-SA20830140-41210</td>\n",
       "      <td>Central US</td>\n",
       "    </tr>\n",
       "    <tr>\n",
       "      <th>1</th>\n",
       "      <td>Yes</td>\n",
       "      <td>IN-2012-PB19210127-41259</td>\n",
       "      <td>Eastern Asia</td>\n",
       "    </tr>\n",
       "    <tr>\n",
       "      <th>2</th>\n",
       "      <td>Yes</td>\n",
       "      <td>CA-2012-SC20095140-41174</td>\n",
       "      <td>Central US</td>\n",
       "    </tr>\n",
       "    <tr>\n",
       "      <th>3</th>\n",
       "      <td>Yes</td>\n",
       "      <td>IN-2015-JH158207-42140</td>\n",
       "      <td>Oceania</td>\n",
       "    </tr>\n",
       "    <tr>\n",
       "      <th>4</th>\n",
       "      <td>Yes</td>\n",
       "      <td>IN-2014-LC168857-41747</td>\n",
       "      <td>Oceania</td>\n",
       "    </tr>\n",
       "  </tbody>\n",
       "</table>\n",
       "</div>"
      ],
      "text/plain": [
       "  Returned                  Order_ID        Region\n",
       "0      Yes  CA-2012-SA20830140-41210    Central US\n",
       "1      Yes  IN-2012-PB19210127-41259  Eastern Asia\n",
       "2      Yes  CA-2012-SC20095140-41174    Central US\n",
       "3      Yes    IN-2015-JH158207-42140       Oceania\n",
       "4      Yes    IN-2014-LC168857-41747       Oceania"
      ]
     },
     "execution_count": 7,
     "metadata": {},
     "output_type": "execute_result"
    }
   ],
   "source": [
    "returns.head()"
   ]
  },
  {
   "cell_type": "markdown",
   "metadata": {},
   "source": [
    "# Problem 2: Inventory Management\n",
    "- Retailers that depend on seasonal shoppers have a particularly challenging job when it comes to \n",
    "  inventory management. Your manager is making plans for next year's inventory.\n",
    "- He wants you to answer the following questions:\n",
    "    1. Is there any seasonal trend of inventory in the company?\n",
    "    2. Is the seasonal trend the same for different categories?"
   ]
  },
  {
   "cell_type": "code",
   "execution_count": 8,
   "metadata": {},
   "outputs": [
    {
     "name": "stdout",
     "output_type": "stream",
     "text": [
      "Start: 2015-12-31 00:00:00\n",
      "End: 2012-01-01 00:00:00\n"
     ]
    }
   ],
   "source": [
    "# Plot inventory over time\n",
    "orders.Order_Date.apply(type)[:1]\n",
    "\n",
    "# First convert Order_Date to type datetime\n",
    "orders.Order_Date = pd.to_datetime(orders.Order_Date)\n",
    "\n",
    "# What range of time is covered?\n",
    "print(\"Start: %s\" % max(orders.Order_Date))\n",
    "print(\"End: %s\" % min(orders.Order_Date))"
   ]
  },
  {
   "cell_type": "code",
   "execution_count": 9,
   "metadata": {},
   "outputs": [
    {
     "data": {
      "text/html": [
       "<div>\n",
       "<style scoped>\n",
       "    .dataframe tbody tr th:only-of-type {\n",
       "        vertical-align: middle;\n",
       "    }\n",
       "\n",
       "    .dataframe tbody tr th {\n",
       "        vertical-align: top;\n",
       "    }\n",
       "\n",
       "    .dataframe thead th {\n",
       "        text-align: right;\n",
       "    }\n",
       "</style>\n",
       "<table border=\"1\" class=\"dataframe\">\n",
       "  <thead>\n",
       "    <tr style=\"text-align: right;\">\n",
       "      <th></th>\n",
       "      <th>Quantity</th>\n",
       "    </tr>\n",
       "    <tr>\n",
       "      <th>Order_Date</th>\n",
       "      <th></th>\n",
       "    </tr>\n",
       "  </thead>\n",
       "  <tbody>\n",
       "    <tr>\n",
       "      <th>2012-01-31</th>\n",
       "      <td>1463</td>\n",
       "    </tr>\n",
       "    <tr>\n",
       "      <th>2012-02-29</th>\n",
       "      <td>1401</td>\n",
       "    </tr>\n",
       "    <tr>\n",
       "      <th>2012-03-31</th>\n",
       "      <td>1745</td>\n",
       "    </tr>\n",
       "    <tr>\n",
       "      <th>2012-04-30</th>\n",
       "      <td>1934</td>\n",
       "    </tr>\n",
       "    <tr>\n",
       "      <th>2012-05-31</th>\n",
       "      <td>2167</td>\n",
       "    </tr>\n",
       "  </tbody>\n",
       "</table>\n",
       "</div>"
      ],
      "text/plain": [
       "            Quantity\n",
       "Order_Date          \n",
       "2012-01-31      1463\n",
       "2012-02-29      1401\n",
       "2012-03-31      1745\n",
       "2012-04-30      1934\n",
       "2012-05-31      2167"
      ]
     },
     "execution_count": 9,
     "metadata": {},
     "output_type": "execute_result"
    }
   ],
   "source": [
    "# Get a sum of orders per day\n",
    "quantity_by_date = orders[[\"Order_Date\",\"Quantity\"]].groupby([\"Order_Date\"]).sum()\n",
    "quantity_by_date = quantity_by_date.groupby(pd.Grouper(freq=\"M\")).sum()\n",
    "quantity_by_date.head()"
   ]
  },
  {
   "cell_type": "code",
   "execution_count": 10,
   "metadata": {},
   "outputs": [
    {
     "data": {
      "text/plain": [
       "<matplotlib.axes._subplots.AxesSubplot at 0x10c9e27b8>"
      ]
     },
     "execution_count": 10,
     "metadata": {},
     "output_type": "execute_result"
    },
    {
     "data": {
      "image/png": "[encoded data removed]",
      "text/plain": [
       "<Figure size 1008x648 with 1 Axes>"
      ]
     },
     "metadata": {},
     "output_type": "display_data"
    }
   ],
   "source": [
    "# PLOT!\n",
    "# quantity_by_date.plot() # works but ugly\n",
    "plt.rcParams['figure.figsize'] = 14, 9\n",
    "quantity_by_date.Quantity.plot(kind='line')\n",
    "# Add title and axes"
   ]
  },
  {
   "cell_type": "code",
   "execution_count": 11,
   "metadata": {},
   "outputs": [
    {
     "data": {
      "image/png": "[encoded data removed]",
      "text/plain": [
       "<Figure size 1008x648 with 1 Axes>"
      ]
     },
     "metadata": {},
     "output_type": "display_data"
    }
   ],
   "source": [
    "# Also group by category\n",
    "quant_cat = orders[[\"Category\",\"Order_Date\",\"Quantity\"]].groupby([\"Order_Date\",\"Category\"]).sum()\n",
    "quant_cat = quant_cat.reset_index(level=[\"Category\"])\n",
    "quant_cat_plot = quant_cat.groupby([quant_cat.index.month, 'Category']).sum().unstack(fill_value=0).plot(kind='bar')\n",
    "plt.xlabel('Date')\n",
    "plt.ylabel('Quantity (units)')\n",
    "plt.suptitle('Inventory required over time, by category', fontsize=20)\n",
    "L=plt.legend()\n",
    "L.get_texts()[0].set_text('Furniture')\n",
    "L.get_texts()[1].set_text('Office Supplies')\n",
    "L.get_texts()[2].set_text('Technology')"
   ]
  },
  {
   "cell_type": "markdown",
   "metadata": {},
   "source": [
    "### Seasonal trends\n",
    "It appears that orders spike in the start of summer(June), start of the school year (August, September), and Holiday season (November, December)."
   ]
  },
  {
   "cell_type": "markdown",
   "metadata": {},
   "source": [
    "# Problem 3: Why did customers make returns?\n",
    "Your manager required you to give a brief report (**Plots + Interpretations**) on returned orders.\n",
    "\n",
    "1. How much profit did we lose due to returns each year?\n",
    "2. How many customer returned more than once? more than 5 times?\n",
    "3. Which regions are more likely to return orders?\n",
    "4. Which categories (sub-categories) of products are more likely to be returned?\n",
    "\n",
    "***Hint:*** Merge the **Returns** dataframe with the **Orders** dataframe using `Order.ID`."
   ]
  },
  {
   "cell_type": "code",
   "execution_count": 12,
   "metadata": {},
   "outputs": [],
   "source": [
    "# How much profit was lost to returns?\n",
    "# Add returned column to orders\n",
    "r2 = returns.drop(columns=\"Region\")\n",
    "merged = orders.merge(r2,left_on=\"Order_ID\", right_on=\"Order_ID\", how=\"left\")\n",
    "# Replace NaN with \"No\"\n",
    "merged.Returned = merged.Returned.replace(np.nan, 'No', regex=True)\n",
    "merged.Returned.unique()\n",
    "\n",
    "# Get the profit returned and not returned\n",
    "merged['Year'] = merged.Order_Date.apply(lambda d: d.year)\n",
    "merged2 = merged[[\"Year\",\"Returned\",\"Profit\"]].groupby([\"Year\",\"Returned\"]).sum()\n",
    "merged2 = merged2.reset_index(level=[\"Returned\"])\n",
    "# merged2"
   ]
  },
  {
   "cell_type": "code",
   "execution_count": 13,
   "metadata": {},
   "outputs": [],
   "source": [
    "# To view as pcts, get the total profit\n",
    "total_profit = merged2.groupby(\"Year\").sum()\n",
    "total_profit=total_profit.rename(columns = {'Profit':'Year_Total_Profit'})\n",
    "\n",
    "# total_profit\n",
    "merged3 = merged2.merge(total_profit,left_on=\"Year\", right_on=\"Year\", how=\"left\")\n",
    "merged3[\"Pct_Year_Total_Profit\"] = merged3.Profit / merged3.Year_Total_Profit * 100\n",
    "# merged3"
   ]
  },
  {
   "cell_type": "code",
   "execution_count": 14,
   "metadata": {},
   "outputs": [],
   "source": [
    "# Profits lost each year\n",
    "# merged3.loc[merged3.Returned==\"Yes\"].iloc[:,[0,2,3]]"
   ]
  },
  {
   "cell_type": "code",
   "execution_count": 15,
   "metadata": {},
   "outputs": [
    {
     "data": {
      "text/plain": [
       "547"
      ]
     },
     "execution_count": 15,
     "metadata": {},
     "output_type": "execute_result"
    }
   ],
   "source": [
    "# How many customers returned an item more than once?\n",
    "repeat_off = merged.loc[(merged.Returned==\"Yes\")].groupby(\"Customer_ID\").size()\n",
    "repeat_off[repeat_off > 1].size"
   ]
  },
  {
   "cell_type": "code",
   "execution_count": 16,
   "metadata": {},
   "outputs": [
    {
     "data": {
      "text/plain": [
       "46"
      ]
     },
     "execution_count": 16,
     "metadata": {},
     "output_type": "execute_result"
    }
   ],
   "source": [
    "# Made more than 5 returns\n",
    "repeat_off[repeat_off > 5].size"
   ]
  },
  {
   "cell_type": "code",
   "execution_count": 17,
   "metadata": {},
   "outputs": [],
   "source": [
    "# Which regions are more likely to return orders\n",
    "ret = merged[[\"Region\",\"Returned\",\"Order_ID\"]].groupby([\"Region\",\"Returned\"]).count()\n",
    "ret = ret.reset_index(level=[\"Returned\"])\n",
    "ret = ret.rename(columns = {\"Order_ID\":\"Order_Count\"})\n",
    "\n",
    "total_ret = ret.groupby(\"Region\").sum()\n",
    "total_ret=total_ret.rename(columns = {'Order_Count':'Total_Orders'})\n",
    "\n",
    "ret = ret.merge(total_ret,left_on=\"Region\", right_on=\"Region\", how=\"left\")\n",
    "ret = ret.loc[ret.Returned == \"Yes\"]\n",
    "ret = ret.rename(columns = {\"Order_Count\":\"Returned_Orders\"})\n",
    "ret[\"Pct_Returned\"] = ret.Returned_Orders / ret.Total_Orders * 100\n",
    "# ret.iloc[:,1:4].sort_values(by=\"Pct_Returned\", ascending = False)"
   ]
  },
  {
   "cell_type": "code",
   "execution_count": 18,
   "metadata": {},
   "outputs": [],
   "source": [
    "# Which categories (sub-categories) of products are more likely to be return\n",
    "ret_cat = merged[[\"Category\",\"Returned\",\"Order_ID\"]].groupby([\"Category\",\"Returned\"]).count()\n",
    "ret_cat = ret_cat.reset_index(level=[\"Returned\"])\n",
    "ret_cat = ret_cat.rename(columns = {\"Order_ID\":\"Order_Count\"})\n",
    "\n",
    "total_ret_cat = ret_cat.groupby(\"Category\").sum()\n",
    "total_ret_cat = total_ret_cat.rename(columns = {'Order_Count':'Total_Orders'})\n",
    "total_ret_cat\n",
    "\n",
    "ret_cat = ret_cat.merge(total_ret_cat,left_on=\"Category\", right_on=\"Category\", how=\"left\")\n",
    "ret_cat = ret_cat.loc[ret_cat.Returned == \"Yes\"]\n",
    "ret_cat = ret_cat.rename(columns = {\"Order_Count\":\"Returned_Orders\"})\n",
    "ret_cat[\"Pct_Returned\"] = ret_cat.Returned_Orders / ret_cat.Total_Orders * 100\n",
    "# ret_cat.iloc[:,1:4].sort_values(by=\"Pct_Returned\", ascending = False)"
   ]
  },
  {
   "cell_type": "markdown",
   "metadata": {},
   "source": [
    "## Problem 3 Summary\n",
    "\n",
    "### Profits lost each year"
   ]
  },
  {
   "cell_type": "code",
   "execution_count": 19,
   "metadata": {},
   "outputs": [
    {
     "data": {
      "text/html": [
       "<div>\n",
       "<style scoped>\n",
       "    .dataframe tbody tr th:only-of-type {\n",
       "        vertical-align: middle;\n",
       "    }\n",
       "\n",
       "    .dataframe tbody tr th {\n",
       "        vertical-align: top;\n",
       "    }\n",
       "\n",
       "    .dataframe thead th {\n",
       "        text-align: right;\n",
       "    }\n",
       "</style>\n",
       "<table border=\"1\" class=\"dataframe\">\n",
       "  <thead>\n",
       "    <tr style=\"text-align: right;\">\n",
       "      <th></th>\n",
       "      <th>Returned</th>\n",
       "      <th>Year_Total_Profit</th>\n",
       "      <th>Pct_Year_Total_Profit</th>\n",
       "    </tr>\n",
       "    <tr>\n",
       "      <th>Year</th>\n",
       "      <th></th>\n",
       "      <th></th>\n",
       "      <th></th>\n",
       "    </tr>\n",
       "  </thead>\n",
       "  <tbody>\n",
       "    <tr>\n",
       "      <th>2012</th>\n",
       "      <td>Yes</td>\n",
       "      <td>248940.35</td>\n",
       "      <td>7.020662</td>\n",
       "    </tr>\n",
       "    <tr>\n",
       "      <th>2013</th>\n",
       "      <td>Yes</td>\n",
       "      <td>307415.33</td>\n",
       "      <td>3.015429</td>\n",
       "    </tr>\n",
       "    <tr>\n",
       "      <th>2014</th>\n",
       "      <td>Yes</td>\n",
       "      <td>406934.89</td>\n",
       "      <td>4.303054</td>\n",
       "    </tr>\n",
       "    <tr>\n",
       "      <th>2015</th>\n",
       "      <td>Yes</td>\n",
       "      <td>504166.10</td>\n",
       "      <td>3.394312</td>\n",
       "    </tr>\n",
       "  </tbody>\n",
       "</table>\n",
       "</div>"
      ],
      "text/plain": [
       "     Returned  Year_Total_Profit  Pct_Year_Total_Profit\n",
       "Year                                                   \n",
       "2012      Yes          248940.35               7.020662\n",
       "2013      Yes          307415.33               3.015429\n",
       "2014      Yes          406934.89               4.303054\n",
       "2015      Yes          504166.10               3.394312"
      ]
     },
     "execution_count": 19,
     "metadata": {},
     "output_type": "execute_result"
    }
   ],
   "source": [
    "merged3.loc[merged3.Returned==\"Yes\"].iloc[:,[0,2,3]]"
   ]
  },
  {
   "cell_type": "markdown",
   "metadata": {},
   "source": [
    "### Customer Returns\n",
    "\n",
    "* 547 customers returned more than once\n",
    "* 46  customers returned more than 5x\n",
    "\n",
    "### Returns by Region\n",
    "\n",
    "* The Western US, Eastern Asia, Southern Europe, Southern Africa, and Southern US are the top 5 most likely regions to return.  All had a return percentage of greater than 5%."
   ]
  },
  {
   "cell_type": "code",
   "execution_count": 20,
   "metadata": {},
   "outputs": [
    {
     "data": {
      "text/html": [
       "<div>\n",
       "<style scoped>\n",
       "    .dataframe tbody tr th:only-of-type {\n",
       "        vertical-align: middle;\n",
       "    }\n",
       "\n",
       "    .dataframe tbody tr th {\n",
       "        vertical-align: top;\n",
       "    }\n",
       "\n",
       "    .dataframe thead th {\n",
       "        text-align: right;\n",
       "    }\n",
       "</style>\n",
       "<table border=\"1\" class=\"dataframe\">\n",
       "  <thead>\n",
       "    <tr style=\"text-align: right;\">\n",
       "      <th></th>\n",
       "      <th>Returned_Orders</th>\n",
       "      <th>Total_Orders</th>\n",
       "      <th>Pct_Returned</th>\n",
       "    </tr>\n",
       "    <tr>\n",
       "      <th>Region</th>\n",
       "      <th></th>\n",
       "      <th></th>\n",
       "      <th></th>\n",
       "    </tr>\n",
       "  </thead>\n",
       "  <tbody>\n",
       "    <tr>\n",
       "      <th>Western US</th>\n",
       "      <td>177</td>\n",
       "      <td>3203</td>\n",
       "      <td>5.526069</td>\n",
       "    </tr>\n",
       "    <tr>\n",
       "      <th>Eastern Asia</th>\n",
       "      <td>131</td>\n",
       "      <td>2374</td>\n",
       "      <td>5.518113</td>\n",
       "    </tr>\n",
       "    <tr>\n",
       "      <th>Southern Europe</th>\n",
       "      <td>112</td>\n",
       "      <td>2113</td>\n",
       "      <td>5.300521</td>\n",
       "    </tr>\n",
       "    <tr>\n",
       "      <th>Southern Africa</th>\n",
       "      <td>25</td>\n",
       "      <td>478</td>\n",
       "      <td>5.230126</td>\n",
       "    </tr>\n",
       "    <tr>\n",
       "      <th>Southern US</th>\n",
       "      <td>83</td>\n",
       "      <td>1620</td>\n",
       "      <td>5.123457</td>\n",
       "    </tr>\n",
       "    <tr>\n",
       "      <th>Eastern US</th>\n",
       "      <td>134</td>\n",
       "      <td>2848</td>\n",
       "      <td>4.705056</td>\n",
       "    </tr>\n",
       "    <tr>\n",
       "      <th>Southeastern Asia</th>\n",
       "      <td>140</td>\n",
       "      <td>3129</td>\n",
       "      <td>4.474273</td>\n",
       "    </tr>\n",
       "    <tr>\n",
       "      <th>South America</th>\n",
       "      <td>133</td>\n",
       "      <td>2988</td>\n",
       "      <td>4.451138</td>\n",
       "    </tr>\n",
       "    <tr>\n",
       "      <th>Western Asia</th>\n",
       "      <td>108</td>\n",
       "      <td>2440</td>\n",
       "      <td>4.426230</td>\n",
       "    </tr>\n",
       "    <tr>\n",
       "      <th>Oceania</th>\n",
       "      <td>154</td>\n",
       "      <td>3487</td>\n",
       "      <td>4.416404</td>\n",
       "    </tr>\n",
       "    <tr>\n",
       "      <th>Central America</th>\n",
       "      <td>248</td>\n",
       "      <td>5616</td>\n",
       "      <td>4.415954</td>\n",
       "    </tr>\n",
       "    <tr>\n",
       "      <th>Southern Asia</th>\n",
       "      <td>111</td>\n",
       "      <td>2655</td>\n",
       "      <td>4.180791</td>\n",
       "    </tr>\n",
       "    <tr>\n",
       "      <th>Central Asia</th>\n",
       "      <td>9</td>\n",
       "      <td>217</td>\n",
       "      <td>4.147465</td>\n",
       "    </tr>\n",
       "    <tr>\n",
       "      <th>Western Africa</th>\n",
       "      <td>60</td>\n",
       "      <td>1460</td>\n",
       "      <td>4.109589</td>\n",
       "    </tr>\n",
       "    <tr>\n",
       "      <th>Caribbean</th>\n",
       "      <td>69</td>\n",
       "      <td>1690</td>\n",
       "      <td>4.082840</td>\n",
       "    </tr>\n",
       "    <tr>\n",
       "      <th>North Africa</th>\n",
       "      <td>51</td>\n",
       "      <td>1278</td>\n",
       "      <td>3.990610</td>\n",
       "    </tr>\n",
       "    <tr>\n",
       "      <th>Western Europe</th>\n",
       "      <td>233</td>\n",
       "      <td>5883</td>\n",
       "      <td>3.960564</td>\n",
       "    </tr>\n",
       "    <tr>\n",
       "      <th>Canada</th>\n",
       "      <td>15</td>\n",
       "      <td>384</td>\n",
       "      <td>3.906250</td>\n",
       "    </tr>\n",
       "    <tr>\n",
       "      <th>Northern Europe</th>\n",
       "      <td>76</td>\n",
       "      <td>2204</td>\n",
       "      <td>3.448276</td>\n",
       "    </tr>\n",
       "    <tr>\n",
       "      <th>Central US</th>\n",
       "      <td>74</td>\n",
       "      <td>2323</td>\n",
       "      <td>3.185536</td>\n",
       "    </tr>\n",
       "    <tr>\n",
       "      <th>Eastern Europe</th>\n",
       "      <td>42</td>\n",
       "      <td>1529</td>\n",
       "      <td>2.746893</td>\n",
       "    </tr>\n",
       "    <tr>\n",
       "      <th>Central Africa</th>\n",
       "      <td>17</td>\n",
       "      <td>643</td>\n",
       "      <td>2.643857</td>\n",
       "    </tr>\n",
       "    <tr>\n",
       "      <th>Eastern Africa</th>\n",
       "      <td>18</td>\n",
       "      <td>728</td>\n",
       "      <td>2.472527</td>\n",
       "    </tr>\n",
       "  </tbody>\n",
       "</table>\n",
       "</div>"
      ],
      "text/plain": [
       "                   Returned_Orders  Total_Orders  Pct_Returned\n",
       "Region                                                        \n",
       "Western US                     177          3203      5.526069\n",
       "Eastern Asia                   131          2374      5.518113\n",
       "Southern Europe                112          2113      5.300521\n",
       "Southern Africa                 25           478      5.230126\n",
       "Southern US                     83          1620      5.123457\n",
       "Eastern US                     134          2848      4.705056\n",
       "Southeastern Asia              140          3129      4.474273\n",
       "South America                  133          2988      4.451138\n",
       "Western Asia                   108          2440      4.426230\n",
       "Oceania                        154          3487      4.416404\n",
       "Central America                248          5616      4.415954\n",
       "Southern Asia                  111          2655      4.180791\n",
       "Central Asia                     9           217      4.147465\n",
       "Western Africa                  60          1460      4.109589\n",
       "Caribbean                       69          1690      4.082840\n",
       "North Africa                    51          1278      3.990610\n",
       "Western Europe                 233          5883      3.960564\n",
       "Canada                          15           384      3.906250\n",
       "Northern Europe                 76          2204      3.448276\n",
       "Central US                      74          2323      3.185536\n",
       "Eastern Europe                  42          1529      2.746893\n",
       "Central Africa                  17           643      2.643857\n",
       "Eastern Africa                  18           728      2.472527"
      ]
     },
     "execution_count": 20,
     "metadata": {},
     "output_type": "execute_result"
    }
   ],
   "source": [
    "ret.iloc[:,1:4].sort_values(by=\"Pct_Returned\", ascending = False)"
   ]
  },
  {
   "cell_type": "markdown",
   "metadata": {},
   "source": [
    "### Returns by Category\n",
    "\n",
    "The three categories were equally likely to be returned."
   ]
  },
  {
   "cell_type": "code",
   "execution_count": 21,
   "metadata": {},
   "outputs": [
    {
     "data": {
      "text/html": [
       "<div>\n",
       "<style scoped>\n",
       "    .dataframe tbody tr th:only-of-type {\n",
       "        vertical-align: middle;\n",
       "    }\n",
       "\n",
       "    .dataframe tbody tr th {\n",
       "        vertical-align: top;\n",
       "    }\n",
       "\n",
       "    .dataframe thead th {\n",
       "        text-align: right;\n",
       "    }\n",
       "</style>\n",
       "<table border=\"1\" class=\"dataframe\">\n",
       "  <thead>\n",
       "    <tr style=\"text-align: right;\">\n",
       "      <th></th>\n",
       "      <th>Returned_Orders</th>\n",
       "      <th>Total_Orders</th>\n",
       "      <th>Pct_Returned</th>\n",
       "    </tr>\n",
       "    <tr>\n",
       "      <th>Category</th>\n",
       "      <th></th>\n",
       "      <th></th>\n",
       "      <th></th>\n",
       "    </tr>\n",
       "  </thead>\n",
       "  <tbody>\n",
       "    <tr>\n",
       "      <th>Technology</th>\n",
       "      <td>445</td>\n",
       "      <td>10141</td>\n",
       "      <td>4.388127</td>\n",
       "    </tr>\n",
       "    <tr>\n",
       "      <th>Furniture</th>\n",
       "      <td>427</td>\n",
       "      <td>9860</td>\n",
       "      <td>4.330629</td>\n",
       "    </tr>\n",
       "    <tr>\n",
       "      <th>Office Supplies</th>\n",
       "      <td>1348</td>\n",
       "      <td>31289</td>\n",
       "      <td>4.308223</td>\n",
       "    </tr>\n",
       "  </tbody>\n",
       "</table>\n",
       "</div>"
      ],
      "text/plain": [
       "                 Returned_Orders  Total_Orders  Pct_Returned\n",
       "Category                                                    \n",
       "Technology                   445         10141      4.388127\n",
       "Furniture                    427          9860      4.330629\n",
       "Office Supplies             1348         31289      4.308223"
      ]
     },
     "execution_count": 21,
     "metadata": {},
     "output_type": "execute_result"
    }
   ],
   "source": [
    "ret_cat.iloc[:,1:4].sort_values(by=\"Pct_Returned\", ascending = False)"
   ]
  },
  {
   "cell_type": "code",
   "execution_count": null,
   "metadata": {},
   "outputs": [],
   "source": []
  }
 ],
 "metadata": {
  "kernelspec": {
   "display_name": "Python 3",
   "language": "python",
   "name": "python3"
  },
  "language_info": {
   "codemirror_mode": {
    "name": "ipython",
    "version": 3
   },
   "file_extension": ".py",
   "mimetype": "text/x-python",
   "name": "python",
   "nbconvert_exporter": "python",
   "pygments_lexer": "ipython3",
   "version": "3.6.5"
  }
 },
 "nbformat": 4,
 "nbformat_minor": 2
}
